{
 "cells": [
  {
   "cell_type": "code",
   "execution_count": 2,
   "id": "48d8a914-49b1-46e5-96f8-9e985428b271",
   "metadata": {},
   "outputs": [],
   "source": [
    "import pandas as pd\n",
    "import numpy as np\n",
    "import os\n",
    "import matplotlib.pyplot as plt\n",
    "import seaborn as sns\n",
    "from sklearn.decomposition import PCA\n",
    "from sklearn.preprocessing import scale\n",
    "\n",
    "from library.sb_utils import save_file"
   ]
  },
  {
   "cell_type": "code",
   "execution_count": 4,
   "id": "f5391b59-682c-4710-9266-3f89dc0c60f5",
   "metadata": {},
   "outputs": [],
   "source": [
    "fostermaster = pd.read_csv('C:\\\\Users\\\\emcdo\\\\Downloads\\\\FosterHomesAndFamilies.csv')fostermaster = pd.read_csv('C:\\\\Users\\\\emcdo\\\\Downloads\\\\FosterHomesAndFamilies.csv')"
   ]
  },
  {
   "cell_type": "code",
   "execution_count": 5,
   "id": "c70a58e7-0876-4cc3-b880-770ed50d9756",
   "metadata": {},
   "outputs": [
    {
     "name": "stdout",
     "output_type": "stream",
     "text": [
      "               State  2012  2017  2021  2022\n",
      "0            Alabama   1.2   1.4   1.4   1.3\n",
      "1             Alaska   1.4   1.8   2.0   2.0\n",
      "2            Arizona   1.5   1.7   1.3   0.9\n",
      "3           Arkansas   1.1   1.6   1.3   1.3\n",
      "4         California   1.2   1.2   1.1   1.0\n",
      "5           Colorado   1.3   1.0   0.8   0.7\n",
      "6        Connecticut   1.2   1.0   0.9   0.8\n",
      "7           Delaware   1.1   1.0   0.6   0.7\n",
      "8            Florida   0.9   1.1   1.0   1.0\n",
      "9            Georgia   0.9   1.1   1.1   1.1\n",
      "10            Hawaii   0.7   0.9   0.9   0.8\n",
      "11             Idaho   0.7   0.8   0.5   0.5\n",
      "12          Illinois   0.9   0.8   1.2   1.2\n",
      "13           Indiana   1.2   1.8   1.4   1.2\n",
      "14              Iowa   1.6   1.3   1.0   1.0\n",
      "15            Kansas   1.5   2.1   2.0   1.8\n",
      "16          Kentucky   2.0   2.3   2.2   2.2\n",
      "17         Louisiana   0.9   0.7   0.6   0.6\n",
      "18             Maine   1.0   1.1   1.4   1.5\n",
      "19          Maryland   0.7   0.5   0.5   0.5\n",
      "20     Massachusetts   1.3   1.6   1.3   1.3\n",
      "21          Michigan   1.1   1.0   0.7   0.7\n",
      "22         Minnesota   0.9   1.0   0.7   0.7\n",
      "23       Mississippi   1.0   1.4   1.1   1.1\n",
      "24          Missouri   1.2   1.6   1.3   1.2\n",
      "25           Montana   1.6   2.0   2.0   1.9\n",
      "26          Nebraska   2.3   1.4   1.3   1.4\n",
      "27            Nevada   1.2   1.1   1.0   1.0\n",
      "28     New Hampshire   0.7   1.1   1.1   1.1\n",
      "29        New Jersey   0.8   0.7   0.4   0.3\n",
      "30        New Mexico   0.8   1.2   0.9   0.8\n",
      "31          New York   1.3   1.0   0.8   0.8\n",
      "32    North Carolina   0.8   1.7   1.1   1.1\n",
      "33      North Dakota   1.8   2.1   2.0   1.9\n",
      "34              Ohio   1.2   1.4   1.5   1.5\n",
      "35          Oklahoma   1.8   1.7   1.5   1.4\n",
      "36            Oregon   1.6   1.5   1.1   1.0\n",
      "37      Pennsylvania   1.3   1.3   1.0   0.9\n",
      "38      Rhode Island   1.9   1.7   1.5   1.3\n",
      "39    South Carolina   0.9   1.1   1.0   0.9\n",
      "40      South Dakota   1.6   1.6   1.7   1.7\n",
      "41         Tennessee   1.0   1.3   1.5   1.6\n",
      "42             Texas   0.9   0.8   0.8   0.6\n",
      "43              Utah   0.7   0.6   0.4   0.4\n",
      "44           Vermont   1.9   2.4   2.0   2.0\n",
      "45          Virginia   0.7   0.8   0.7   0.7\n",
      "46        Washington   1.1   1.2   0.9   0.7\n",
      "47  Washington, D.C.   2.8   1.5   0.9   0.8\n",
      "48     West Virginia   3.0   2.8   3.1   3.0\n",
      "49         Wisconsin   1.1   1.1   1.1   1.0\n",
      "50           Wyoming   1.5   1.5   1.2   1.1\n",
      "51          National   1.1   1.2   1.0   1.0\n"
     ]
    }
   ],
   "source": [
    "print(fostermaster)"
   ]
  }
 ],
 "metadata": {
  "kernelspec": {
   "display_name": "Python 3 (ipykernel)",
   "language": "python",
   "name": "python3"
  },
  "language_info": {
   "codemirror_mode": {
    "name": "ipython",
    "version": 3
   },
   "file_extension": ".py",
   "mimetype": "text/x-python",
   "name": "python",
   "nbconvert_exporter": "python",
   "pygments_lexer": "ipython3",
   "version": "3.12.4"
  }
 },
 "nbformat": 4,
 "nbformat_minor": 5
}
